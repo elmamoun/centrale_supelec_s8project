{
 "cells": [
  {
   "cell_type": "code",
   "execution_count": 6,
   "id": "c3c1e0c3-e160-47d3-8599-6f69c934fb44",
   "metadata": {},
   "outputs": [
    {
     "name": "stdout",
     "output_type": "stream",
     "text": [
      "Hello\n"
     ]
    },
    {
     "name": "stderr",
     "output_type": "stream",
     "text": [
      "/usr/lib/python3/dist-packages/requests/__init__.py:91: RequestsDependencyWarning: urllib3 (1.26.4) or chardet (3.0.4) doesn't match a supported version!\n",
      "  RequestsDependencyWarning)\n"
     ]
    }
   ],
   "source": [
    "import warnings\n",
    "warnings.simplefilter(action='ignore', category=FutureWarning)\n",
    "import os\n",
    "# ! pip3 install statsmodels\n",
    "# ! pip3 install termcolor\n",
    "import pandas as pd\n",
    "import numpy as np\n",
    "import pmdarima\n",
    "#import geopandas as gpdx\n",
    "import json\n",
    "import folium as fo\n",
    "import matplotlib.pyplot as plt\n",
    "from termcolor import colored\n",
    "import numpy as np\n",
    "%matplotlib inline             \n",
    "from statsmodels.tsa.stattools import adfuller\n",
    "from statsmodels.tsa.stattools import acf, pacf\n",
    "from statsmodels.graphics.tsaplots import plot_acf, plot_pacf\n",
    "import statsmodels.api as sm\n",
    "from statsmodels.tsa.seasonal import seasonal_decompose\n",
    "from statsmodels.tsa.arima_model import ARIMA\n",
    "\n",
    "\n",
    "print('Hello')"
   ]
  },
  {
   "cell_type": "code",
   "execution_count": 7,
   "id": "b3419c1d-6b0a-40cb-a8a9-fc27eb7bf1ed",
   "metadata": {},
   "outputs": [],
   "source": [
    "os.chdir(r\"/home/coffreo/Notebooks/cs-consommation/Extraction\")\n",
    "from fonctions_extraction import * "
   ]
  },
  {
   "cell_type": "code",
   "execution_count": 8,
   "id": "2362831e-3b47-4f23-91ff-b146125622ff",
   "metadata": {},
   "outputs": [],
   "source": [
    "coffreo = pd.read_pickle(r\"/home/coffreo/Notebooks/cs-consommation/Data/dataframe_filtre.pkl\")"
   ]
  },
  {
   "cell_type": "code",
   "execution_count": 9,
   "id": "98aabb23-e4fb-414b-9cf8-b95ba15e58f5",
   "metadata": {},
   "outputs": [],
   "source": [
    "coffreo = df_update(coffreo)\n",
    "coffreo = modif_zip(coffreo)"
   ]
  },
  {
   "cell_type": "code",
   "execution_count": 10,
   "id": "f3ad4876-ef77-40ac-863f-5f9a37bb5ed6",
   "metadata": {},
   "outputs": [],
   "source": [
    "div_count = dict()\n",
    "for idx,name in enumerate(coffreo['Division'].value_counts().index.tolist()):\n",
    "    div_count[name] = coffreo['Division'].value_counts()[idx]\n"
   ]
  },
  {
   "cell_type": "code",
   "execution_count": 11,
   "id": "9eae016d-6889-4d5f-9537-ec3edeeae8e1",
   "metadata": {},
   "outputs": [
    {
     "name": "stderr",
     "output_type": "stream",
     "text": [
      "/home/coffreo/Notebooks/cs-consommation/Extraction/fonctions_extraction.py:489: UserWarning: Boolean Series key will be reindexed to match DataFrame index.\n",
      "  df_extract = df_extract[[\"startDate\",\"expectedEndDate\"]][df['startDate'].between(\"2015-01-01\", \"2021-05-01\")]\n"
     ]
    }
   ],
   "source": [
    "#Création de DataFrame \n",
    "X = nb_contrats_actifs(coffreo, '2017-01-01', '2019-01-01', 'Division', 'Entreposage et services auxiliaires des transports')"
   ]
  },
  {
   "cell_type": "markdown",
   "id": "7afe4a95-1ce7-4b82-a4a9-6230c574408f",
   "metadata": {},
   "source": [
    "# Test de stationnarité"
   ]
  },
  {
   "cell_type": "code",
   "execution_count": 13,
   "id": "7c728cc1-c325-4b89-9556-b92b26dc51af",
   "metadata": {},
   "outputs": [],
   "source": [
    "#test de stationnarité\n",
    "\n",
    "from statsmodels.tsa.stattools import adfuller\n",
    "def check_stationarity(timeseries):\n",
    "    result = adfuller(timeseries,autolag='AIC')\n",
    "    dfoutput = pd.Series(result[0:4], index=['Test Statistic','p-value','#Lags Used','Number of Observations Used'])\n",
    "    print('The test statistic: %f' % result[0])\n",
    "    print('p-value: %f' % result[1])\n",
    "    print('Critical Values:')\n",
    "    for key, value in result[4].items():\n",
    "        print('%s: %.3f' % (key, value))\n",
    "    if result[1]<0.05:\n",
    "        return True\n",
    "    return False\n"
   ]
  },
  {
   "cell_type": "markdown",
   "id": "3ccbb189-943e-4682-ac92-f2929bcd52e1",
   "metadata": {},
   "source": [
    "# Fonction calcul d'erreur"
   ]
  },
  {
   "cell_type": "code",
   "execution_count": 14,
   "id": "f41e0b17-0792-4207-966e-d650b3f2c0fc",
   "metadata": {},
   "outputs": [],
   "source": [
    "def forecast_accuracy(forecast, actual):\n",
    "    mape = np.mean(np.abs(forecast - actual)/np.abs(actual))  # MAPE\n",
    "    me = np.mean(forecast - actual)             # ME\n",
    "    mae = np.mean(np.abs(forecast - actual))    # MAE\n",
    "    mpe = np.mean((forecast - actual)/actual)   # MPE\n",
    "    rmse = np.mean((forecast - actual)**2)**.5  # RMSE\n",
    "    corr = np.corrcoef(forecast, actual)[0,1]   # corr\n",
    "    mins = np.amin(np.hstack([forecast[:,None], \n",
    "                              actual[:,None]]), axis=1)\n",
    "    maxs = np.amax(np.hstack([forecast[:,None], \n",
    "                              actual[:,None]]), axis=1)\n",
    "    minmax = 1 - np.mean(mins/maxs)             # minmax\n",
    "    return({'mape':mape, 'me':me, 'mae': mae, \n",
    "            'mpe': mpe, 'rmse':rmse, 'minmax':minmax})"
   ]
  },
  {
   "cell_type": "markdown",
   "id": "ee249683-a308-4ede-a997-187b74ec467e",
   "metadata": {},
   "source": [
    "# Fonction sarimax_prediction"
   ]
  },
  {
   "cell_type": "code",
   "execution_count": null,
   "id": "208eca24-77d1-4133-9f89-d71471a599bd",
   "metadata": {},
   "outputs": [],
   "source": [
    "def sarimax_prediction(X,horizon,taille_prediction):\n",
    "    '''\n",
    "    X : série temporelle\n",
    "    horizon : horizon de le prédiction pour une itération\n",
    "    taille_prediction : intervalle de prédiction \n",
    "    '''\n",
    "    \n",
    "    #plot the decomposition\n",
    "    decomposition = sm.tsa.seasonal_decompose(X.nbMissions, model='additive')\n",
    "    plt.rcParams[\"figure.figsize\"] = [16,9]\n",
    "    decomposition.plot()\n",
    "    plt.show()\n",
    "\n",
    "    #seasonality value\n",
    "    seasonality = int(input(\"Saisir une valeur pour la saisonnalité de la série temporelle\"))\n",
    "    \n",
    "    #check the statinnarity\n",
    "    X_diff = X \n",
    "    d_sarima = 0 \n",
    "    D_sarima = 0\n",
    "\n",
    "    while not check_stationarity(X_diff):\n",
    "        X_diff = X_diff.diff()\n",
    "        X_diff.dropna(inplace=True)\n",
    "        X_diff = X_diff.diff(seasonality)\n",
    "        X_diff.dropna(inplace=True)\n",
    "        d_sarima += 1 \n",
    "        D_sarima += 1\n",
    "\n",
    "    #print d and D values\n",
    "    print('la valeur de d est: ',d_sarima)\n",
    "    print('la valeur de D est: ',D_sarima)\n",
    "    \n",
    "        \n",
    "    #split the data   \n",
    "    X.dropna(inplace=True)\n",
    "    X_array = np.asarray(X)\n",
    "\n",
    "    train_data = X_array[:len(X_diff)-taille_prediction]\n",
    "    test_data=X_array[len(X_diff)-taille_prediction:]\n",
    "\n",
    "    train = pd.DataFrame(data=train_data, index= X[:len(X_diff)-taille_prediction].index , columns=[\"nbMissions\"])\n",
    "    test = pd.DataFrame(data=test_data, index= X[len(X_diff)-taille_prediction:].index , columns=[\"nbMissions\"])\n",
    "    \n",
    "    #plot acf and pacf graphs\n",
    "    \n",
    "    plot_acf(X_diff)\n",
    "    plt.show()\n",
    "    plt.close()\n",
    "    plot_pacf(X_diff)\n",
    "    plt.show()\n",
    "    plt.close()\n",
    "    \n",
    "    #max and min of model's parameters\n",
    "    p_min = int(input(\"Saisir une valeur minimale de p \"))\n",
    "    p_max = int(input(\"Saisir une valeur maximale de p \"))\n",
    "    \n",
    "    q_min = int(input(\"Saisir une valeur minimale de q \"))\n",
    "    q_max = int(input(\"Saisir une valeur maximale de q \"))\n",
    "\n",
    "    \n",
    "    # choosing the parameters for the model \n",
    "    from pmdarima import auto_arima\n",
    "    stepwise_model = auto_arima(X, start_p=p_min, start_q=q_min,\n",
    "                               max_p=p_max, max_q=q_max, m=seasonality,\n",
    "                               start_P=0, seasonal=True,\n",
    "                               d=d_sarima, D=D_sarima, trace=True,\n",
    "                               error_action='ignore',  \n",
    "                               suppress_warnings=True, \n",
    "                               stepwise=True)\n",
    "    print('la valeur de AIC du modèle est de : ',stepwise_model.aic())\n",
    "    \n",
    "    \n",
    "    #Rolling Forecast algorithm \n",
    "    start_date = test.index[0]\n",
    "    l = [start_date]\n",
    "    while start_date+timedelta(days=horizon) in test.index:\n",
    "        l.append(start_date)\n",
    "        start_date = start_date+timedelta(days=horizon)\n",
    "        \n",
    "    rolling_predictions = test.copy()\n",
    "    \n",
    "    for train_end in l:\n",
    "        train_data = X[:train_end-timedelta(days=1)]\n",
    "        train_data.dropna(inplace=True)\n",
    "        train_data = train_data.astype(np.float)\n",
    "\n",
    "        model = sm.tsa.statespace.SARIMAX(train_data,order = stepwise_model.order ,seasonal_order = stepwise_model.seasonal_order,enforce_stationarity=False,enforce_invertibility=False)\n",
    "        model_fit = model.fit()\n",
    "\n",
    "        pred = model_fit.forecast(horizon, alpha=0.05) \n",
    "        date = train_end\n",
    "        for date in pred.index:\n",
    "            rolling_predictions[date]  = pred[date]\n",
    "        date1=date\n",
    "\n",
    "    train_data = X[:date1-timedelta(days=1)]\n",
    "    train_data.dropna(inplace=True)\n",
    "    train_data = train_data.astype(np.float)\n",
    "    model = sm.tsa.statespace.SARIMAX(train_data,order = stepwise_model.order,seasonal_order = stepwise_model.seasonal_order,enforce_stationarity=False,enforce_invertibility=False)\n",
    "    model_fit = model.fit()\n",
    "\n",
    "    pred = model_fit.forecast(len(rolling_predictions)+2-len(rolling_predictions.columns),alpha = 0.05)\n",
    "    for date in pred.index:\n",
    "        rolling_predictions[date] = pred[date]\n",
    "\n",
    "    # Forecast\n",
    "    fc_sarima = results.forecast(32, alpha=0.05) \n",
    "    # Make as pandas series\n",
    "    fc_series = pd.Series(fc_sarima, index=test.index)\n",
    "    #lower_series = pd.Series(conf[:, 0], index=test.index)\n",
    "    #upper_series = pd.Series(conf[:, 1], index=test.index)\n",
    "\n",
    "    # Plot\n",
    "    plt.figure(figsize=(12,5), dpi=100)\n",
    "    plt.plot(train, label='training')\n",
    "    plt.plot(test, label='actual')\n",
    "    plt.plot(fc_series, label='forecast')\n",
    "    #plt.fill_between(lower_series.index, lower_series, upper_series, color='k', alpha=.15)\n",
    "    plt.title('Forecast vs Actuals')\n",
    "    plt.legend(loc='upper left', fontsize=8)\n",
    "    plt.show()\n",
    "\n",
    "    \n",
    "    columns = list(rolling_predictions.columns)\n",
    "    columns.remove(columns[0])\n",
    "    predictions = dict()\n",
    "    for column in columns:\n",
    "        cleanedList = [x for x in rolling_predictions[column] if str(x) != 'nan']\n",
    "        predictions[str(column)[:10]] = cleanedList[0]\n",
    "    \n",
    "    forecast_rolling = pd.DataFrame(predictions.items(), columns=['Date', 'nbMissions'])\n",
    "\n",
    "    forecast_rolling.drop(columns=['Date'],axis = 1)\n",
    "    del forecast_rolling['Date']\n",
    "    fc_rolling = fc_series.copy()\n",
    "    for i in range(len(fc_series)):\n",
    "        fc_rolling[i] = forecast_rolling.iloc[i]\n",
    "\n",
    "    plt.figure(figsize = (16,5))\n",
    "\n",
    "    # Plot the results \n",
    "    plt.figure(figsize=(12,5), dpi=100)\n",
    "    plt.plot(train, label='training')\n",
    "    plt.plot(test, label='actual')\n",
    "    plt.plot(fc_rolling, label='forecast')\n",
    "    #plt.fill_between(lower_series.index, lower_series, upper_series, color='k', alpha=.15)\n",
    "    plt.title('Forecast vs Actuals')\n",
    "    plt.legend(loc='upper left', fontsize=8)\n",
    "    plt.show()\n",
    "\n",
    "sarimax_prediction(X,15,30)\n",
    "        "
   ]
  },
  {
   "cell_type": "code",
   "execution_count": null,
   "id": "e2b6acbc-9766-46bf-82ad-c2e1d4d944c2",
   "metadata": {},
   "outputs": [],
   "source": []
  }
 ],
 "metadata": {
  "kernelspec": {
   "display_name": "Python 3",
   "language": "python",
   "name": "python3"
  },
  "language_info": {
   "codemirror_mode": {
    "name": "ipython",
    "version": 3
   },
   "file_extension": ".py",
   "mimetype": "text/x-python",
   "name": "python",
   "nbconvert_exporter": "python",
   "pygments_lexer": "ipython3",
   "version": "3.7.3"
  }
 },
 "nbformat": 4,
 "nbformat_minor": 5
}
